{
 "cells": [
  {
   "attachments": {},
   "cell_type": "markdown",
   "metadata": {},
   "source": [
    "### The purpose of this notebook is to perform exploratory data analysis on the data"
   ]
  },
  {
   "attachments": {},
   "cell_type": "markdown",
   "metadata": {},
   "source": [
    "The data set is composed of tweets and an associated tag classifying their sentiment  \n",
    "which ranges from negative, neutral to positive"
   ]
  },
  {
   "cell_type": "code",
   "execution_count": 44,
   "metadata": {},
   "outputs": [],
   "source": [
    "import pandas as pd\n",
    "import seaborn as sns\n",
    "import numpy as np\n",
    "import os"
   ]
  },
  {
   "cell_type": "code",
   "execution_count": 45,
   "metadata": {},
   "outputs": [
    {
     "data": {
      "text/html": [
       "<div>\n",
       "<style scoped>\n",
       "    .dataframe tbody tr th:only-of-type {\n",
       "        vertical-align: middle;\n",
       "    }\n",
       "\n",
       "    .dataframe tbody tr th {\n",
       "        vertical-align: top;\n",
       "    }\n",
       "\n",
       "    .dataframe thead th {\n",
       "        text-align: right;\n",
       "    }\n",
       "</style>\n",
       "<table border=\"1\" class=\"dataframe\">\n",
       "  <thead>\n",
       "    <tr style=\"text-align: right;\">\n",
       "      <th></th>\n",
       "      <th>File Name</th>\n",
       "      <th>Caption</th>\n",
       "      <th>LABEL</th>\n",
       "    </tr>\n",
       "  </thead>\n",
       "  <tbody>\n",
       "    <tr>\n",
       "      <th>0</th>\n",
       "      <td>1.txt</td>\n",
       "      <td>How I feel today #legday #jelly #aching #gym</td>\n",
       "      <td>negative</td>\n",
       "    </tr>\n",
       "    <tr>\n",
       "      <th>1</th>\n",
       "      <td>10.txt</td>\n",
       "      <td>@ArrivaTW absolute disgrace two carriages from...</td>\n",
       "      <td>negative</td>\n",
       "    </tr>\n",
       "    <tr>\n",
       "      <th>2</th>\n",
       "      <td>100.txt</td>\n",
       "      <td>This is my Valentine's from 1 of my nephews. I...</td>\n",
       "      <td>positive</td>\n",
       "    </tr>\n",
       "    <tr>\n",
       "      <th>3</th>\n",
       "      <td>1000.txt</td>\n",
       "      <td>betterfeelingfilms: RT via Instagram: First da...</td>\n",
       "      <td>neutral</td>\n",
       "    </tr>\n",
       "    <tr>\n",
       "      <th>4</th>\n",
       "      <td>1001.txt</td>\n",
       "      <td>Zoe's first love #Rattled @JohnnyHarper15</td>\n",
       "      <td>positive</td>\n",
       "    </tr>\n",
       "  </tbody>\n",
       "</table>\n",
       "</div>"
      ],
      "text/plain": [
       "  File Name                                            Caption     LABEL\n",
       "0     1.txt      How I feel today #legday #jelly #aching #gym   negative\n",
       "1    10.txt  @ArrivaTW absolute disgrace two carriages from...  negative\n",
       "2   100.txt  This is my Valentine's from 1 of my nephews. I...  positive\n",
       "3  1000.txt  betterfeelingfilms: RT via Instagram: First da...   neutral\n",
       "4  1001.txt         Zoe's first love #Rattled @JohnnyHarper15   positive"
      ]
     },
     "execution_count": 45,
     "metadata": {},
     "output_type": "execute_result"
    }
   ],
   "source": [
    "tweet_df = pd.read_excel('data/LabeledText.xlsx')\n",
    "tweet_df.head()"
   ]
  },
  {
   "attachments": {},
   "cell_type": "markdown",
   "metadata": {},
   "source": [
    "Let's start by checking if there are any missing or duplicated values,  \n",
    "then move onto the data types of each column, the total amount of rows,  \n",
    "and then checking for any class imbalances"
   ]
  },
  {
   "cell_type": "code",
   "execution_count": 46,
   "metadata": {},
   "outputs": [
    {
     "data": {
      "text/plain": [
       "File Name    0\n",
       "Caption      0\n",
       "LABEL        0\n",
       "dtype: int64"
      ]
     },
     "execution_count": 46,
     "metadata": {},
     "output_type": "execute_result"
    }
   ],
   "source": [
    "tweet_df.isnull().sum()"
   ]
  },
  {
   "cell_type": "code",
   "execution_count": 47,
   "metadata": {},
   "outputs": [
    {
     "data": {
      "text/plain": [
       "0"
      ]
     },
     "execution_count": 47,
     "metadata": {},
     "output_type": "execute_result"
    }
   ],
   "source": [
    "tweet_df.duplicated().sum()"
   ]
  },
  {
   "cell_type": "code",
   "execution_count": 48,
   "metadata": {},
   "outputs": [
    {
     "data": {
      "text/plain": [
       "File Name    object\n",
       "Caption      object\n",
       "LABEL        object\n",
       "dtype: object"
      ]
     },
     "execution_count": 48,
     "metadata": {},
     "output_type": "execute_result"
    }
   ],
   "source": [
    "tweet_df.dtypes"
   ]
  },
  {
   "cell_type": "code",
   "execution_count": 49,
   "metadata": {},
   "outputs": [
    {
     "data": {
      "text/plain": [
       "(4869, 3)"
      ]
     },
     "execution_count": 49,
     "metadata": {},
     "output_type": "execute_result"
    }
   ],
   "source": [
    "tweet_df.shape"
   ]
  },
  {
   "cell_type": "code",
   "execution_count": 50,
   "metadata": {},
   "outputs": [
    {
     "name": "stdout",
     "output_type": "stream",
     "text": [
      "Negative Percentage:30%\n",
      "Neutral Percentage:36%\n",
      "Positive Percentage:34%\n"
     ]
    }
   ],
   "source": [
    "neutral_count = tweet_df[tweet_df['LABEL'] == 'neutral'].shape[0]\n",
    "negative_count = tweet_df[tweet_df['LABEL'] == 'negative'].shape[0]\n",
    "positive_count = tweet_df[tweet_df['LABEL'] == 'positive'].shape[0]\n",
    "total_count = tweet_df.shape[0]\n",
    "\n",
    "print(f'Negative Percentage:{round(negative_count/total_count*100)}%' +\n",
    "      f'\\nNeutral Percentage:{round(neutral_count/total_count*100)}%'+ \n",
    "      f'\\nPositive Percentage:{round(positive_count/total_count*100)}%')"
   ]
  },
  {
   "attachments": {},
   "cell_type": "markdown",
   "metadata": {},
   "source": [
    "Each class looks to be fairly represented in the dataset,  \n",
    "which means we won't have to do any upsampling or downsampling  \n",
    "in order for our model to generalize"
   ]
  },
  {
   "attachments": {},
   "cell_type": "markdown",
   "metadata": {},
   "source": [
    "Since all we want is to learn how to predict the label  \n",
    "for a given tweet, we only need to keep the caption and  \n",
    "label column"
   ]
  },
  {
   "cell_type": "code",
   "execution_count": 51,
   "metadata": {},
   "outputs": [],
   "source": [
    "tweet_df = tweet_df.drop(columns=['File Name'],axis=1)"
   ]
  },
  {
   "cell_type": "code",
   "execution_count": 52,
   "metadata": {},
   "outputs": [
    {
     "name": "stdout",
     "output_type": "stream",
     "text": [
      "Unique Labels:3\n"
     ]
    }
   ],
   "source": [
    "print(f'Unique Labels:{tweet_df.LABEL.nunique()}')"
   ]
  },
  {
   "attachments": {},
   "cell_type": "markdown",
   "metadata": {},
   "source": [
    "We see that we have the correct amount of class labels,  \n",
    "let's move onto cleaning our tweets up, we'll have to remove  \n",
    "any links, html tags, or non alphanumeric characters "
   ]
  },
  {
   "cell_type": "code",
   "execution_count": 53,
   "metadata": {},
   "outputs": [
    {
     "data": {
      "text/html": [
       "<div>\n",
       "<style scoped>\n",
       "    .dataframe tbody tr th:only-of-type {\n",
       "        vertical-align: middle;\n",
       "    }\n",
       "\n",
       "    .dataframe tbody tr th {\n",
       "        vertical-align: top;\n",
       "    }\n",
       "\n",
       "    .dataframe thead th {\n",
       "        text-align: right;\n",
       "    }\n",
       "</style>\n",
       "<table border=\"1\" class=\"dataframe\">\n",
       "  <thead>\n",
       "    <tr style=\"text-align: right;\">\n",
       "      <th></th>\n",
       "      <th>Caption</th>\n",
       "      <th>LABEL</th>\n",
       "    </tr>\n",
       "  </thead>\n",
       "  <tbody>\n",
       "    <tr>\n",
       "      <th>0</th>\n",
       "      <td>How I feel today legday jelly aching gym</td>\n",
       "      <td>negative</td>\n",
       "    </tr>\n",
       "    <tr>\n",
       "      <th>1</th>\n",
       "      <td>ArrivaTW absolute disgrace two carriages from ...</td>\n",
       "      <td>negative</td>\n",
       "    </tr>\n",
       "    <tr>\n",
       "      <th>2</th>\n",
       "      <td>This is my Valentines from 1 of my nephews I a...</td>\n",
       "      <td>positive</td>\n",
       "    </tr>\n",
       "    <tr>\n",
       "      <th>3</th>\n",
       "      <td>betterfeelingfilms RT via Instagram First day ...</td>\n",
       "      <td>neutral</td>\n",
       "    </tr>\n",
       "    <tr>\n",
       "      <th>4</th>\n",
       "      <td>Zoes first love Rattled JohnnyHarper15</td>\n",
       "      <td>positive</td>\n",
       "    </tr>\n",
       "  </tbody>\n",
       "</table>\n",
       "</div>"
      ],
      "text/plain": [
       "                                             Caption     LABEL\n",
       "0          How I feel today legday jelly aching gym   negative\n",
       "1  ArrivaTW absolute disgrace two carriages from ...  negative\n",
       "2  This is my Valentines from 1 of my nephews I a...  positive\n",
       "3  betterfeelingfilms RT via Instagram First day ...   neutral\n",
       "4            Zoes first love Rattled JohnnyHarper15   positive"
      ]
     },
     "execution_count": 53,
     "metadata": {},
     "output_type": "execute_result"
    }
   ],
   "source": [
    "tweet_df['Caption'] = tweet_df['Caption'].str.replace(r'<[^<>]*>', '', regex=True)\n",
    "tweet_df['Caption'] = tweet_df['Caption'].str.replace(r'[^A-Za-z0-9 ]+', '', regex=True)\n",
    "\n",
    "tweet_df.head()"
   ]
  },
  {
   "cell_type": "code",
   "execution_count": 54,
   "metadata": {},
   "outputs": [
    {
     "data": {
      "text/html": [
       "<div>\n",
       "<style scoped>\n",
       "    .dataframe tbody tr th:only-of-type {\n",
       "        vertical-align: middle;\n",
       "    }\n",
       "\n",
       "    .dataframe tbody tr th {\n",
       "        vertical-align: top;\n",
       "    }\n",
       "\n",
       "    .dataframe thead th {\n",
       "        text-align: right;\n",
       "    }\n",
       "</style>\n",
       "<table border=\"1\" class=\"dataframe\">\n",
       "  <thead>\n",
       "    <tr style=\"text-align: right;\">\n",
       "      <th></th>\n",
       "      <th>tweets</th>\n",
       "      <th>labels</th>\n",
       "    </tr>\n",
       "  </thead>\n",
       "  <tbody>\n",
       "    <tr>\n",
       "      <th>0</th>\n",
       "      <td>How I feel today legday jelly aching gym</td>\n",
       "      <td>negative</td>\n",
       "    </tr>\n",
       "    <tr>\n",
       "      <th>1</th>\n",
       "      <td>ArrivaTW absolute disgrace two carriages from ...</td>\n",
       "      <td>negative</td>\n",
       "    </tr>\n",
       "    <tr>\n",
       "      <th>2</th>\n",
       "      <td>This is my Valentines from 1 of my nephews I a...</td>\n",
       "      <td>positive</td>\n",
       "    </tr>\n",
       "    <tr>\n",
       "      <th>3</th>\n",
       "      <td>betterfeelingfilms RT via Instagram First day ...</td>\n",
       "      <td>neutral</td>\n",
       "    </tr>\n",
       "    <tr>\n",
       "      <th>4</th>\n",
       "      <td>Zoes first love Rattled JohnnyHarper15</td>\n",
       "      <td>positive</td>\n",
       "    </tr>\n",
       "  </tbody>\n",
       "</table>\n",
       "</div>"
      ],
      "text/plain": [
       "                                              tweets    labels\n",
       "0          How I feel today legday jelly aching gym   negative\n",
       "1  ArrivaTW absolute disgrace two carriages from ...  negative\n",
       "2  This is my Valentines from 1 of my nephews I a...  positive\n",
       "3  betterfeelingfilms RT via Instagram First day ...   neutral\n",
       "4            Zoes first love Rattled JohnnyHarper15   positive"
      ]
     },
     "execution_count": 54,
     "metadata": {},
     "output_type": "execute_result"
    }
   ],
   "source": [
    "tweet_df = tweet_df.rename(columns={'Caption':'tweets','LABEL':'labels'})\n",
    "tweet_df.head()"
   ]
  },
  {
   "attachments": {},
   "cell_type": "markdown",
   "metadata": {},
   "source": [
    "Let's convert our labels from strings to categorical variables using label encoding"
   ]
  },
  {
   "cell_type": "code",
   "execution_count": 57,
   "metadata": {},
   "outputs": [
    {
     "data": {
      "text/html": [
       "<div>\n",
       "<style scoped>\n",
       "    .dataframe tbody tr th:only-of-type {\n",
       "        vertical-align: middle;\n",
       "    }\n",
       "\n",
       "    .dataframe tbody tr th {\n",
       "        vertical-align: top;\n",
       "    }\n",
       "\n",
       "    .dataframe thead th {\n",
       "        text-align: right;\n",
       "    }\n",
       "</style>\n",
       "<table border=\"1\" class=\"dataframe\">\n",
       "  <thead>\n",
       "    <tr style=\"text-align: right;\">\n",
       "      <th></th>\n",
       "      <th>tweets</th>\n",
       "      <th>labels</th>\n",
       "    </tr>\n",
       "  </thead>\n",
       "  <tbody>\n",
       "    <tr>\n",
       "      <th>0</th>\n",
       "      <td>How I feel today legday jelly aching gym</td>\n",
       "      <td>0</td>\n",
       "    </tr>\n",
       "    <tr>\n",
       "      <th>1</th>\n",
       "      <td>ArrivaTW absolute disgrace two carriages from ...</td>\n",
       "      <td>0</td>\n",
       "    </tr>\n",
       "    <tr>\n",
       "      <th>2</th>\n",
       "      <td>This is my Valentines from 1 of my nephews I a...</td>\n",
       "      <td>2</td>\n",
       "    </tr>\n",
       "    <tr>\n",
       "      <th>3</th>\n",
       "      <td>betterfeelingfilms RT via Instagram First day ...</td>\n",
       "      <td>1</td>\n",
       "    </tr>\n",
       "    <tr>\n",
       "      <th>4</th>\n",
       "      <td>Zoes first love Rattled JohnnyHarper15</td>\n",
       "      <td>2</td>\n",
       "    </tr>\n",
       "  </tbody>\n",
       "</table>\n",
       "</div>"
      ],
      "text/plain": [
       "                                              tweets  labels\n",
       "0          How I feel today legday jelly aching gym        0\n",
       "1  ArrivaTW absolute disgrace two carriages from ...       0\n",
       "2  This is my Valentines from 1 of my nephews I a...       2\n",
       "3  betterfeelingfilms RT via Instagram First day ...       1\n",
       "4            Zoes first love Rattled JohnnyHarper15        2"
      ]
     },
     "execution_count": 57,
     "metadata": {},
     "output_type": "execute_result"
    }
   ],
   "source": [
    "from sklearn.preprocessing import LabelEncoder\n",
    "\n",
    "l_enc = LabelEncoder()\n",
    "tweet_df['labels'] = l_enc.fit_transform(tweet_df['labels'])\n",
    "tweet_df.head()"
   ]
  },
  {
   "attachments": {},
   "cell_type": "markdown",
   "metadata": {},
   "source": [
    "We'll now move onto tokenizing and padding our tweets"
   ]
  },
  {
   "cell_type": "code",
   "execution_count": 13,
   "metadata": {},
   "outputs": [],
   "source": [
    "import tensorflow as tf\n",
    "\n",
    "tf.random.set_seed(42)\n",
    "\n",
    "tokenizer = tf.keras.preprocessing.text.Tokenizer()\n",
    "# fits the tweets to the tokenizer to update our vocabulary\n",
    "tokenizer.fit_on_texts(tweet_df['tweets'])\n",
    "# retreiving the text sequences so we can later pad them to all have equal length\n",
    "text_sequences = tokenizer.texts_to_sequences(tweet_df['tweets'])"
   ]
  },
  {
   "cell_type": "code",
   "execution_count": 14,
   "metadata": {},
   "outputs": [],
   "source": [
    "text_sequences = tf.keras.preprocessing.sequence.pad_sequences(text_sequences)\n",
    "len_seq = len(text_sequences[0])\n",
    "num_seq = len(text_sequences)"
   ]
  },
  {
   "cell_type": "code",
   "execution_count": 15,
   "metadata": {},
   "outputs": [],
   "source": [
    "# accessing our vocabulary\n",
    "word2idx = tokenizer.word_index\n",
    "idx2word = {v:w for w,v in word2idx.items()}\n",
    "word2idx['PAD'] = 0\n",
    "idx2word[0] = 'PAD'"
   ]
  },
  {
   "attachments": {},
   "cell_type": "markdown",
   "metadata": {},
   "source": [
    "Now that we've tokenized and padded our tweets we can move on to creating our datasets "
   ]
  },
  {
   "cell_type": "code",
   "execution_count": 58,
   "metadata": {},
   "outputs": [],
   "source": [
    "sentiment_labels = tf.keras.utils.to_categorical(tweet_df['labels'],num_classes=3)"
   ]
  },
  {
   "cell_type": "code",
   "execution_count": 60,
   "metadata": {},
   "outputs": [],
   "source": [
    "dataset = tf.data.Dataset.from_tensor_slices((text_sequences,sentiment_labels))\n",
    "dataset = dataset.shuffle(99999)\n",
    "\n",
    "test_size = num_seq // 4\n",
    "val_size = (num_seq - test_size) // 10\n",
    "\n",
    "test_dataset = dataset.take(test_size)\n",
    "val_dataset = dataset.skip(test_size).take(val_size)\n",
    "train_dataset = dataset.skip(test_size + val_size)\n",
    "\n",
    "BATCH_SIZE = 32\n",
    "train_dataset = train_dataset.batch(BATCH_SIZE,drop_remainder=True)\n",
    "test_dataset = test_dataset.batch(BATCH_SIZE,drop_remainder=True)\n",
    "val_dataset = val_dataset.batch(BATCH_SIZE,drop_remainder=True)"
   ]
  },
  {
   "attachments": {},
   "cell_type": "markdown",
   "metadata": {},
   "source": [
    "We now have to create our embedding matrix, to do so we'll be using GloVe to obtain  \n",
    "our word embeddings, and then appeneding the embeddings to our embedding matrix"
   ]
  },
  {
   "cell_type": "code",
   "execution_count": 17,
   "metadata": {},
   "outputs": [],
   "source": [
    "import gensim.downloader as api\n",
    "\n",
    "EMBEDDING_DIM = 300\n",
    "DATA_DIR = 'embed_data'\n",
    "EMBEDDING_NP_FILE = os.path.join(DATA_DIR, 'E.npz')\n",
    "EMBEDDING_MODEL = 'glove-wiki-gigaword-300'"
   ]
  },
  {
   "cell_type": "code",
   "execution_count": 18,
   "metadata": {},
   "outputs": [],
   "source": [
    "def build_embedding_matrix(sequences,word2idx,dim,file):\n",
    "    if os.path.exists(file):\n",
    "        E = np.load(file)\n",
    "    else:\n",
    "        vocab_size = len(word2idx)\n",
    "        E = np.zeros(shape=(vocab_size,dim))\n",
    "        word_vectors = api.load(EMBEDDING_MODEL)\n",
    "        for word, idx in word2idx.items():\n",
    "            try:\n",
    "                E[idx] = word_vectors.get_vector(word)\n",
    "            except KeyError:\n",
    "                pass\n",
    "        np.save(EMBEDDING_NP_FILE,E)\n",
    "    return E"
   ]
  },
  {
   "cell_type": "code",
   "execution_count": 19,
   "metadata": {},
   "outputs": [
    {
     "data": {
      "text/plain": [
       "(18266, 300)"
      ]
     },
     "execution_count": 19,
     "metadata": {},
     "output_type": "execute_result"
    }
   ],
   "source": [
    "E = build_embedding_matrix(text_sequences,word2idx,EMBEDDING_DIM,EMBEDDING_NP_FILE)\n",
    "E.shape"
   ]
  },
  {
   "attachments": {},
   "cell_type": "markdown",
   "metadata": {},
   "source": [
    "We can now move onto creating our model"
   ]
  },
  {
   "cell_type": "code",
   "execution_count": 64,
   "metadata": {},
   "outputs": [],
   "source": [
    "input_ = tf.keras.layers.Input(shape=len_seq)\n",
    "embed_layer = tf.keras.layers.Embedding(len(word2idx),\n",
    "                                        EMBEDDING_DIM,\n",
    "                                        input_length=len_seq,\n",
    "                                        weights = [E],\n",
    "                                        trainable=False)(input_)\n",
    "conv_layer1 = tf.keras.layers.Conv1D(filters=64,kernel_size=3,activation='relu')(embed_layer)\n",
    "pool_layer1 = tf.keras.layers.MaxPool1D()(conv_layer1)\n",
    "conv_layer2 = tf.keras.layers.Conv1D(filters=32,kernel_size=3,activation='relu')(pool_layer1)\n",
    "pool_layer2 = tf.keras.layers.MaxPool1D()(conv_layer2)\n",
    "flat_layer = tf.keras.layers.Flatten()(pool_layer2)\n",
    "out = tf.keras.layers.Dense(units=3,activation='softmax')(flat_layer)\n",
    "\n",
    "model = tf.keras.models.Model(inputs=input_,outputs=out)"
   ]
  },
  {
   "cell_type": "code",
   "execution_count": 65,
   "metadata": {},
   "outputs": [
    {
     "name": "stdout",
     "output_type": "stream",
     "text": [
      "Model: \"model_3\"\n",
      "_________________________________________________________________\n",
      " Layer (type)                Output Shape              Param #   \n",
      "=================================================================\n",
      " input_6 (InputLayer)        [(None, 29)]              0         \n",
      "                                                                 \n",
      " embedding_7 (Embedding)     (None, 29, 300)           5479800   \n",
      "                                                                 \n",
      " conv1d_7 (Conv1D)           (None, 27, 64)            57664     \n",
      "                                                                 \n",
      " max_pooling1d_6 (MaxPooling  (None, 13, 64)           0         \n",
      " 1D)                                                             \n",
      "                                                                 \n",
      " conv1d_8 (Conv1D)           (None, 11, 32)            6176      \n",
      "                                                                 \n",
      " max_pooling1d_7 (MaxPooling  (None, 5, 32)            0         \n",
      " 1D)                                                             \n",
      "                                                                 \n",
      " flatten_3 (Flatten)         (None, 160)               0         \n",
      "                                                                 \n",
      " dense_3 (Dense)             (None, 3)                 483       \n",
      "                                                                 \n",
      "=================================================================\n",
      "Total params: 5,544,123\n",
      "Trainable params: 64,323\n",
      "Non-trainable params: 5,479,800\n",
      "_________________________________________________________________\n"
     ]
    }
   ],
   "source": [
    "model.summary()"
   ]
  },
  {
   "cell_type": "code",
   "execution_count": 66,
   "metadata": {},
   "outputs": [],
   "source": [
    "model.compile(loss='categorical_crossentropy',optimizer='adam',\n",
    "              metrics=['accuracy'])\n",
    "\n",
    "es = tf.keras.callbacks.EarlyStopping(patience=5,restore_best_weights=True)"
   ]
  },
  {
   "cell_type": "code",
   "execution_count": 67,
   "metadata": {},
   "outputs": [
    {
     "name": "stdout",
     "output_type": "stream",
     "text": [
      "Epoch 1/50\n",
      "102/102 [==============================] - 2s 12ms/step - loss: 1.0346 - accuracy: 0.4807 - val_loss: 0.8997 - val_accuracy: 0.6222\n",
      "Epoch 2/50\n",
      "102/102 [==============================] - 1s 9ms/step - loss: 0.8400 - accuracy: 0.6437 - val_loss: 0.7046 - val_accuracy: 0.7358\n",
      "Epoch 3/50\n",
      "102/102 [==============================] - 1s 9ms/step - loss: 0.6889 - accuracy: 0.7200 - val_loss: 0.5310 - val_accuracy: 0.8210\n",
      "Epoch 4/50\n",
      "102/102 [==============================] - 1s 9ms/step - loss: 0.5651 - accuracy: 0.7800 - val_loss: 0.4343 - val_accuracy: 0.8494\n",
      "Epoch 5/50\n",
      "102/102 [==============================] - 1s 9ms/step - loss: 0.4836 - accuracy: 0.8244 - val_loss: 0.3646 - val_accuracy: 0.8807\n",
      "Epoch 6/50\n",
      "102/102 [==============================] - 1s 9ms/step - loss: 0.3900 - accuracy: 0.8692 - val_loss: 0.3586 - val_accuracy: 0.8778\n",
      "Epoch 7/50\n",
      "102/102 [==============================] - 1s 9ms/step - loss: 0.3113 - accuracy: 0.9010 - val_loss: 0.2561 - val_accuracy: 0.9205\n",
      "Epoch 8/50\n",
      "102/102 [==============================] - 1s 9ms/step - loss: 0.2520 - accuracy: 0.9246 - val_loss: 0.1840 - val_accuracy: 0.9574\n",
      "Epoch 9/50\n",
      "102/102 [==============================] - 1s 9ms/step - loss: 0.2109 - accuracy: 0.9341 - val_loss: 0.1404 - val_accuracy: 0.9688\n",
      "Epoch 10/50\n",
      "102/102 [==============================] - 1s 8ms/step - loss: 0.1766 - accuracy: 0.9491 - val_loss: 0.1573 - val_accuracy: 0.9602\n",
      "Epoch 11/50\n",
      "102/102 [==============================] - 1s 9ms/step - loss: 0.1548 - accuracy: 0.9559 - val_loss: 0.1282 - val_accuracy: 0.9688\n",
      "Epoch 12/50\n",
      "102/102 [==============================] - 1s 9ms/step - loss: 0.1294 - accuracy: 0.9654 - val_loss: 0.1034 - val_accuracy: 0.9716\n",
      "Epoch 13/50\n",
      "102/102 [==============================] - 1s 9ms/step - loss: 0.0992 - accuracy: 0.9737 - val_loss: 0.0706 - val_accuracy: 0.9858\n",
      "Epoch 14/50\n",
      "102/102 [==============================] - 1s 9ms/step - loss: 0.0988 - accuracy: 0.9764 - val_loss: 0.0692 - val_accuracy: 0.9886\n",
      "Epoch 15/50\n",
      "102/102 [==============================] - 1s 9ms/step - loss: 0.0943 - accuracy: 0.9746 - val_loss: 0.0410 - val_accuracy: 0.9915\n",
      "Epoch 16/50\n",
      "102/102 [==============================] - 1s 9ms/step - loss: 0.0779 - accuracy: 0.9786 - val_loss: 0.0630 - val_accuracy: 0.9830\n",
      "Epoch 17/50\n",
      "102/102 [==============================] - 1s 8ms/step - loss: 0.0783 - accuracy: 0.9801 - val_loss: 0.0680 - val_accuracy: 0.9886\n",
      "Epoch 18/50\n",
      "102/102 [==============================] - 1s 9ms/step - loss: 0.0729 - accuracy: 0.9798 - val_loss: 0.0519 - val_accuracy: 0.9858\n",
      "Epoch 19/50\n",
      "102/102 [==============================] - 1s 9ms/step - loss: 0.0661 - accuracy: 0.9825 - val_loss: 0.0968 - val_accuracy: 0.9801\n",
      "Epoch 20/50\n",
      "102/102 [==============================] - 1s 9ms/step - loss: 0.0621 - accuracy: 0.9847 - val_loss: 0.0386 - val_accuracy: 0.9915\n",
      "Epoch 21/50\n",
      "102/102 [==============================] - 1s 8ms/step - loss: 0.0770 - accuracy: 0.9813 - val_loss: 0.0505 - val_accuracy: 0.9915\n",
      "Epoch 22/50\n",
      "102/102 [==============================] - 1s 10ms/step - loss: 0.0658 - accuracy: 0.9825 - val_loss: 0.0649 - val_accuracy: 0.9801\n",
      "Epoch 23/50\n",
      "102/102 [==============================] - 1s 11ms/step - loss: 0.0540 - accuracy: 0.9819 - val_loss: 0.0566 - val_accuracy: 0.9915\n",
      "Epoch 24/50\n",
      "102/102 [==============================] - 1s 10ms/step - loss: 0.0662 - accuracy: 0.9819 - val_loss: 0.0782 - val_accuracy: 0.9744\n",
      "Epoch 25/50\n",
      "102/102 [==============================] - 1s 9ms/step - loss: 0.0606 - accuracy: 0.9828 - val_loss: 0.0405 - val_accuracy: 0.9801\n"
     ]
    }
   ],
   "source": [
    "history = model.fit(train_dataset,validation_data=val_dataset,\n",
    "                    epochs=50,callbacks=[es])"
   ]
  },
  {
   "cell_type": "code",
   "execution_count": 70,
   "metadata": {},
   "outputs": [
    {
     "data": {
      "text/plain": [
       "<Axes: >"
      ]
     },
     "execution_count": 70,
     "metadata": {},
     "output_type": "execute_result"
    },
    {
     "data": {
      "image/png": "[encoded data removed]",
      "text/plain": [
       "<Figure size 1500x700 with 1 Axes>"
      ]
     },
     "metadata": {},
     "output_type": "display_data"
    }
   ],
   "source": [
    "history_df = pd.DataFrame(history.history)\n",
    "\n",
    "history_df[['loss','val_loss']].plot(figsize=(15,7))"
   ]
  },
  {
   "cell_type": "code",
   "execution_count": 71,
   "metadata": {},
   "outputs": [
    {
     "data": {
      "text/plain": [
       "<Axes: >"
      ]
     },
     "execution_count": 71,
     "metadata": {},
     "output_type": "execute_result"
    },
    {
     "data": {
      "image/png": "[encoded data removed]",
      "text/plain": [
       "<Figure size 1500x700 with 1 Axes>"
      ]
     },
     "metadata": {},
     "output_type": "display_data"
    }
   ],
   "source": [
    "history_df[['accuracy','val_accuracy']].plot(figsize=(15,7))"
   ]
  },
  {
   "attachments": {},
   "cell_type": "markdown",
   "metadata": {},
   "source": [
    "As we can see, the model doesn't seem to be over or underfitting our data, it performs very well  \n",
    "on the training and validation sets, lets see how it does on the test set"
   ]
  },
  {
   "cell_type": "code",
   "execution_count": 74,
   "metadata": {},
   "outputs": [
    {
     "name": "stdout",
     "output_type": "stream",
     "text": [
      "38/38 [==============================] - 0s 4ms/step - loss: 0.0730 - accuracy: 0.9753\n"
     ]
    },
    {
     "data": {
      "text/plain": [
       "[0.07295852154493332, 0.9753289222717285]"
      ]
     },
     "execution_count": 74,
     "metadata": {},
     "output_type": "execute_result"
    }
   ],
   "source": [
    "model.evaluate(test_dataset)"
   ]
  },
  {
   "attachments": {},
   "cell_type": "markdown",
   "metadata": {},
   "source": [
    "The accuracy on the test set is quite high, however this does not tell the full story,  \n",
    "let's take a look at the confusion matrix"
   ]
  },
  {
   "cell_type": "code",
   "execution_count": 88,
   "metadata": {},
   "outputs": [
    {
     "name": "stdout",
     "output_type": "stream",
     "text": [
      "153/153 [==============================] - 1s 4ms/step\n"
     ]
    },
    {
     "data": {
      "image/png": "[encoded data removed]",
      "text/plain": [
       "<Figure size 1200x700 with 2 Axes>"
      ]
     },
     "metadata": {},
     "output_type": "display_data"
    }
   ],
   "source": [
    "from sklearn.metrics import confusion_matrix\n",
    "import matplotlib.pyplot as plt\n",
    "\n",
    "X_test, y_test = tuple(zip(*dataset))\n",
    "X_test = np.array(X_test)\n",
    "y_test = np.array(y_test)\n",
    "\n",
    "y_test = np.argmax(y_test,axis=-1)\n",
    "y_preds = np.argmax(model.predict(X_test),axis=-1)\n",
    "\n",
    "cnf_mtx = confusion_matrix(y_test,y_preds)\n",
    "\n",
    "plt.figure(figsize=(12,7))\n",
    "sns.heatmap(cnf_mtx,annot=True)\n",
    "plt.show()"
   ]
  },
  {
   "attachments": {},
   "cell_type": "markdown",
   "metadata": {},
   "source": [
    "The model looks to be predicting each of the labels quite well"
   ]
  }
 ],
 "metadata": {
  "kernelspec": {
   "display_name": "venv",
   "language": "python",
   "name": "python3"
  },
  "language_info": {
   "codemirror_mode": {
    "name": "ipython",
    "version": 3
   },
   "file_extension": ".py",
   "mimetype": "text/x-python",
   "name": "python",
   "nbconvert_exporter": "python",
   "pygments_lexer": "ipython3",
   "version": "3.10.10"
  },
  "orig_nbformat": 4
 },
 "nbformat": 4,
 "nbformat_minor": 2
}
